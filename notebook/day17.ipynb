{
 "cells": [
  {
   "cell_type": "markdown",
   "id": "15baca69",
   "metadata": {},
   "source": [
    "# Day17: BERT在GLUE MRPC任务上的微调\n",
    "本项目演示如何使用`bert-base-uncased`模型在GLUE的MRPC（Microsoft Research Paraphrase Corpus）任务上进行微调。\n",
    "- 任务目标：判断两个句子是否为同义句（paraphrase）。\n",
    "- 评估指标：准确率、F1分数。\n",
    "\n",
    "**流程：**\n",
    "1. 数据加载与探索\n",
    "2. 数据预处理与分词\n",
    "3. DataLoader构建\n",
    "4. 模型定义\n",
    "5. 训练与评估\n"
   ]
  },
  {
   "cell_type": "markdown",
   "id": "3158fdba",
   "metadata": {},
   "source": [
    "见scripts/DL/day17.py。该脚本无法在CPU上训练推理。\n"
   ]
  },
  {
   "cell_type": "markdown",
   "id": "1aefdbb8",
   "metadata": {},
   "source": [
    "现在把SimpleLSTM做的情绪推理模型push到hub。\n"
   ]
  },
  {
   "cell_type": "code",
   "execution_count": 4,
   "id": "97ad24ab",
   "metadata": {},
   "outputs": [
    {
     "data": {
      "application/vnd.jupyter.widget-view+json": {
       "model_id": "4cab4e4cd5104632a8ff921fa11dbf0e",
       "version_major": 2,
       "version_minor": 0
      },
      "text/plain": [
       "VBox(children=(HTML(value='<center> <img\\nsrc=https://huggingface.co/front/assets/huggingface_logo-noborder.sv…"
      ]
     },
     "metadata": {},
     "output_type": "display_data"
    }
   ],
   "source": [
    "from huggingface_hub import notebook_login\n",
    "\n",
    "notebook_login()"
   ]
  },
  {
   "cell_type": "markdown",
   "id": "f9b0356c",
   "metadata": {},
   "source": [
    "最直接的方式是直接在TrainingArgument中添加push_to_hub=True，如    \n",
    "```python\n",
    "from transformers import TrainingArguments\n",
    "\n",
    "training_args = TrainingArguments(\n",
    "    \"bert-finetuned-mrpc\", save_strategy=\"epoch\", push_to_hub=True\n",
    ")\n",
    "\n",
    "trainer.push_to_hub()\n",
    "```"
   ]
  },
  {
   "cell_type": "markdown",
   "id": "fcd7ce82",
   "metadata": {},
   "source": [
    "## 使用huggingface_hub\n"
   ]
  },
  {
   "cell_type": "markdown",
   "id": "62195ab7",
   "metadata": {},
   "source": [
    "现在cli输入huggingface-cli login并输入access token"
   ]
  },
  {
   "cell_type": "markdown",
   "id": "6900bace",
   "metadata": {},
   "source": [
    "### upload_file上传小文件"
   ]
  },
  {
   "cell_type": "code",
   "execution_count": null,
   "id": "274f42ee",
   "metadata": {},
   "outputs": [],
   "source": [
    "from huggingface_hub import create_repo,upload_file"
   ]
  },
  {
   "cell_type": "code",
   "execution_count": 8,
   "id": "1eb62656",
   "metadata": {},
   "outputs": [
    {
     "data": {
      "text/plain": [
       "RepoUrl('https://huggingface.co/Dove667/lstm-emotion-detection', endpoint='https://huggingface.co', repo_type='model', repo_id='Dove667/lstm-emotion-detection')"
      ]
     },
     "execution_count": 8,
     "metadata": {},
     "output_type": "execute_result"
    }
   ],
   "source": [
    "create_repo(\"lstm-emotion-detection\", exist_ok=True)"
   ]
  },
  {
   "cell_type": "code",
   "execution_count": 12,
   "id": "de94f151",
   "metadata": {},
   "outputs": [
    {
     "data": {
      "application/vnd.jupyter.widget-view+json": {
       "model_id": "574b1de4973f4229bcb04f6d6547b9d8",
       "version_major": 2,
       "version_minor": 0
      },
      "text/plain": [
       "checkpoint_9.pth:   0%|          | 0.00/48.5M [00:00<?, ?B/s]"
      ]
     },
     "metadata": {},
     "output_type": "display_data"
    },
    {
     "data": {
      "text/plain": [
       "CommitInfo(commit_url='https://huggingface.co/Dove667/lstm-emotion-detection/commit/cd2ff86aac8b8b58a67252c04075f298b5c0392e', commit_message='Upload model.pth with huggingface_hub', commit_description='', oid='cd2ff86aac8b8b58a67252c04075f298b5c0392e', pr_url=None, repo_url=RepoUrl('https://huggingface.co/Dove667/lstm-emotion-detection', endpoint='https://huggingface.co', repo_type='model', repo_id='Dove667/lstm-emotion-detection'), pr_revision=None, pr_num=None)"
      ]
     },
     "execution_count": 12,
     "metadata": {},
     "output_type": "execute_result"
    }
   ],
   "source": [
    "upload_file(\n",
    "    path_or_fileobj=\"/home/dove/DLModel/SimpleLSTM/checkpoint_9.pth\",\n",
    "    path_in_repo=\"model.pth\",\n",
    "    repo_id=\"dove667/lstm-emotion-detection\",\n",
    ")"
   ]
  },
  {
   "cell_type": "markdown",
   "id": "bd209294",
   "metadata": {},
   "source": [
    "### Relository 类\n",
    "当文件大小大于5GB时，不能使用upload_file方法，可以使用Repository类（预先安装git和git-lfs）\n",
    "```bash\n",
    "sudo apt-get update\n",
    "sudo apt-get install git-lfs\n",
    "git lfs install\n",
    "```"
   ]
  },
  {
   "cell_type": "code",
   "execution_count": null,
   "id": "85b3765e",
   "metadata": {},
   "outputs": [],
   "source": [
    "from huggingface_hub import Repository\n",
    "\n",
    "repo = Repository(\"<path_to_dummy_folder>\", clone_from=\"<namespace>/dummy-model\")"
   ]
  },
  {
   "cell_type": "markdown",
   "id": "0744675c",
   "metadata": {},
   "source": [
    "然后可以调用一系列git方法：\n",
    "```python\n",
    "repo.git_pull()\n",
    "\n",
    "model.save_pretrained(\"<path_to_dummy_folder>\")\n",
    "tokenizer.save_pretrained(\"<path_to_dummy_folder>\")\n",
    "\n",
    "repo.git_add()\n",
    "repo.git_commit(\"Add model and tokenizer files\")\n",
    "repo.git_push()"
   ]
  },
  {
   "cell_type": "markdown",
   "id": "65345f85",
   "metadata": {},
   "source": [
    "### 传统git的方法\n",
    "```bash\n",
    "git clone https://huggingface.co/<namespace>/<your-model-id>\n",
    "```"
   ]
  },
  {
   "cell_type": "markdown",
   "id": "ccc00767",
   "metadata": {},
   "source": [
    "对模型任意操作，比如微调：\n",
    "```python\n",
    "from transformers import AutoModelForMaskedLM, AutoTokenizer\n",
    "\n",
    "checkpoint = \"camembert-base\"\n",
    "\n",
    "model = AutoModelForMaskedLM.from_pretrained(checkpoint)\n",
    "tokenizer = AutoTokenizer.from_pretrained(checkpoint)\n",
    "\n",
    "# Do whatever with the model, train it, fine-tune it...\n",
    "\n",
    "model.save_pretrained(\"<path_to_dummy_folder>\")\n",
    "tokenizer.save_pretrained(\"<path_to_dummy_folder>\")\n",
    "```"
   ]
  },
  {
   "cell_type": "markdown",
   "id": "482a1f9c",
   "metadata": {},
   "source": [
    "然后正常使用git \n",
    "```bash\n",
    "git add . \n",
    "git commit -m \"\"\n",
    "git push\n",
    "```"
   ]
  }
 ],
 "metadata": {
  "kernelspec": {
   "display_name": "handonML",
   "language": "python",
   "name": "python3"
  },
  "language_info": {
   "codemirror_mode": {
    "name": "ipython",
    "version": 3
   },
   "file_extension": ".py",
   "mimetype": "text/x-python",
   "name": "python",
   "nbconvert_exporter": "python",
   "pygments_lexer": "ipython3",
   "version": "3.12.3"
  }
 },
 "nbformat": 4,
 "nbformat_minor": 5
}
